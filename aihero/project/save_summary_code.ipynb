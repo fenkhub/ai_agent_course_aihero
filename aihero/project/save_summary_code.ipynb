{
 "cells": [
  {
   "cell_type": "code",
   "execution_count": 1,
   "id": "7a866314-bc68-44db-820f-b766dca11704",
   "metadata": {},
   "outputs": [
    {
     "name": "stdout",
     "output_type": "stream",
     "text": [
      "Saved summary and code to save_code_and_summary.md\n"
     ]
    }
   ],
   "source": [
    "\n",
    "from groq import Groq\n",
    "\n",
    "groq_client = Groq() \n",
    "\n",
    "def summarize_code(code_text):\n",
    "    # Your summarization prompt\n",
    "    prompt = (\n",
    "        \"Summarize the code in plain English. Briefly describe each class and function/method \"\n",
    "        \"(their purpose and role), then give a short overall summary of how they work together. \"\n",
    "        \"Avoid low-level details.\"\n",
    "    )\n",
    "\n",
    "    # Combine prompt and code\n",
    "    full_prompt = f\"{prompt}\\n\\n<CODE>\\n{code_text}\\n</CODE>\"\n",
    "\n",
    "    # Send to LLM\n",
    "    messages = [\n",
    "        {\"role\": \"system\", \"content\": \"You are a helpful assistant that explains code clearly.\"},\n",
    "        {\"role\": \"user\", \"content\": full_prompt}\n",
    "    ]\n",
    "\n",
    "    response = groq_client.chat.completions.create(\n",
    "        model=\"llama-3.1-8b-instant\",\n",
    "        messages=messages\n",
    "    )\n",
    "\n",
    "    return response.choices[0].message.content.strip()\n",
    "\n",
    "def save_code_and_summary(code_text, summary, filename='save_code_and_summary.md'):\n",
    "    with open(filename, 'w', encoding='utf-8') as f:\n",
    "        f.write(\"# 🧠 Code Summary\\n\\n\")\n",
    "        f.write(f\"{summary}\\n\\n\")\n",
    "        f.write(\"---\\n\\n\")\n",
    "        f.write(\"# 🧾 Source Code\\n\\n\")\n",
    "        f.write(\"```python\\n\")\n",
    "        f.write(code_text)\n",
    "        f.write(\"\\n```\\n\")\n",
    "\n",
    "    print(f\"Saved summary and code to {filename}\")\n",
    "\n",
    "with open(\"exercise_day2.py\", \"r\", encoding=\"utf-8\") as f:\n",
    "    code_text = f.read()\n",
    "\n",
    "summary = summarize_code(code_text)\n",
    "save_code_and_summary(code_text, summary)\n",
    "\n"
   ]
  },
  {
   "cell_type": "code",
   "execution_count": null,
   "id": "885d685b-492c-4ef6-b434-125e0c801224",
   "metadata": {},
   "outputs": [],
   "source": []
  }
 ],
 "metadata": {
  "kernelspec": {
   "display_name": "Python 3 (ipykernel)",
   "language": "python",
   "name": "python3"
  },
  "language_info": {
   "codemirror_mode": {
    "name": "ipython",
    "version": 3
   },
   "file_extension": ".py",
   "mimetype": "text/x-python",
   "name": "python",
   "nbconvert_exporter": "python",
   "pygments_lexer": "ipython3",
   "version": "3.12.1"
  }
 },
 "nbformat": 4,
 "nbformat_minor": 5
}
